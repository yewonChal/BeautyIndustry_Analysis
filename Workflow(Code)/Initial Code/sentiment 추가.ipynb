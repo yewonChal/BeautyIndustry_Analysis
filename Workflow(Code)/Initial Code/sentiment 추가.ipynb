{
 "cells": [
  {
   "cell_type": "code",
   "execution_count": 17,
   "id": "d86885d8-ca74-4149-b3ed-7595c357aa2a",
   "metadata": {},
   "outputs": [],
   "source": [
    "import pandas as pd\n",
    "\n",
    "review_pos = pd.read_csv('data_all(긍정).csv', encoding='utf-8')\n",
    "review_de = pd.read_csv('data_all(부정).csv', encoding='utf-8')"
   ]
  },
  {
   "cell_type": "code",
   "execution_count": 18,
   "id": "263e0391-c139-4315-8aac-ed0e9a9a16ec",
   "metadata": {},
   "outputs": [
    {
     "data": {
      "text/html": [
       "<div>\n",
       "<style scoped>\n",
       "    .dataframe tbody tr th:only-of-type {\n",
       "        vertical-align: middle;\n",
       "    }\n",
       "\n",
       "    .dataframe tbody tr th {\n",
       "        vertical-align: top;\n",
       "    }\n",
       "\n",
       "    .dataframe thead th {\n",
       "        text-align: right;\n",
       "    }\n",
       "</style>\n",
       "<table border=\"1\" class=\"dataframe\">\n",
       "  <thead>\n",
       "    <tr style=\"text-align: right;\">\n",
       "      <th></th>\n",
       "      <th>브랜드</th>\n",
       "      <th>평점</th>\n",
       "      <th>피부타입</th>\n",
       "      <th>피부고민</th>\n",
       "      <th>자극도</th>\n",
       "      <th>리뷰</th>\n",
       "    </tr>\n",
       "  </thead>\n",
       "  <tbody>\n",
       "    <tr>\n",
       "      <th>0</th>\n",
       "      <td>닥터지</td>\n",
       "      <td>4</td>\n",
       "      <td>복합성에 좋아요</td>\n",
       "      <td>진정에 좋아요</td>\n",
       "      <td>보통이에요</td>\n",
       "      <td>컵 받고싶어서 샀어요 크림은 튜브형태러 내줄 생각은 없는건지 궁금해요</td>\n",
       "    </tr>\n",
       "    <tr>\n",
       "      <th>1</th>\n",
       "      <td>닥터지</td>\n",
       "      <td>5</td>\n",
       "      <td>건성에 좋아요</td>\n",
       "      <td>진정에 좋아요</td>\n",
       "      <td>자극없이 순해요</td>\n",
       "      <td>닥터지는 사계절 내내 잘 사용하고잇어요   물론 건성피부에게 겨울에는 얼굴당김잇어서...</td>\n",
       "    </tr>\n",
       "    <tr>\n",
       "      <th>2</th>\n",
       "      <td>닥터지</td>\n",
       "      <td>5</td>\n",
       "      <td>복합성에 좋아요</td>\n",
       "      <td>진정에 좋아요</td>\n",
       "      <td>보통이에요</td>\n",
       "      <td>아빠 사드렸는데 좋아해요 근데 바르는게 쫌 별로긴 한데 투브타입으로 나오면 더 좋을 듯</td>\n",
       "    </tr>\n",
       "    <tr>\n",
       "      <th>3</th>\n",
       "      <td>닥터지</td>\n",
       "      <td>5</td>\n",
       "      <td>건성에 좋아요</td>\n",
       "      <td>보습에 좋아요</td>\n",
       "      <td>자극없이 순해요</td>\n",
       "      <td>국민 수분 크림이라 그런지 모든 피부타입에도 잘 맞으면서 무난한 아이템이에요 당황이...</td>\n",
       "    </tr>\n",
       "    <tr>\n",
       "      <th>4</th>\n",
       "      <td>닥터지</td>\n",
       "      <td>4</td>\n",
       "      <td>복합성에 좋아요</td>\n",
       "      <td>보습에 좋아요</td>\n",
       "      <td>자극없이 순해요</td>\n",
       "      <td>여름용 수분크림이 필요해서 산 제품이에요  가격은 세일가로 28800원 했어요사실...</td>\n",
       "    </tr>\n",
       "  </tbody>\n",
       "</table>\n",
       "</div>"
      ],
      "text/plain": [
       "   브랜드  평점      피부타입     피부고민       자극도  \\\n",
       "0  닥터지   4  복합성에 좋아요  진정에 좋아요     보통이에요   \n",
       "1  닥터지   5   건성에 좋아요  진정에 좋아요  자극없이 순해요   \n",
       "2  닥터지   5  복합성에 좋아요  진정에 좋아요     보통이에요   \n",
       "3  닥터지   5   건성에 좋아요  보습에 좋아요  자극없이 순해요   \n",
       "4  닥터지   4  복합성에 좋아요  보습에 좋아요  자극없이 순해요   \n",
       "\n",
       "                                                  리뷰  \n",
       "0             컵 받고싶어서 샀어요 크림은 튜브형태러 내줄 생각은 없는건지 궁금해요  \n",
       "1  닥터지는 사계절 내내 잘 사용하고잇어요   물론 건성피부에게 겨울에는 얼굴당김잇어서...  \n",
       "2   아빠 사드렸는데 좋아해요 근데 바르는게 쫌 별로긴 한데 투브타입으로 나오면 더 좋을 듯  \n",
       "3  국민 수분 크림이라 그런지 모든 피부타입에도 잘 맞으면서 무난한 아이템이에요 당황이...  \n",
       "4   여름용 수분크림이 필요해서 산 제품이에요  가격은 세일가로 28800원 했어요사실...  "
      ]
     },
     "execution_count": 18,
     "metadata": {},
     "output_type": "execute_result"
    }
   ],
   "source": [
    "review_pos.head()"
   ]
  },
  {
   "cell_type": "code",
   "execution_count": 19,
   "id": "aeda4893-f8b0-4786-87bd-4719b05c5eb3",
   "metadata": {},
   "outputs": [
    {
     "data": {
      "text/html": [
       "<div>\n",
       "<style scoped>\n",
       "    .dataframe tbody tr th:only-of-type {\n",
       "        vertical-align: middle;\n",
       "    }\n",
       "\n",
       "    .dataframe tbody tr th {\n",
       "        vertical-align: top;\n",
       "    }\n",
       "\n",
       "    .dataframe thead th {\n",
       "        text-align: right;\n",
       "    }\n",
       "</style>\n",
       "<table border=\"1\" class=\"dataframe\">\n",
       "  <thead>\n",
       "    <tr style=\"text-align: right;\">\n",
       "      <th></th>\n",
       "      <th>브랜드</th>\n",
       "      <th>평점</th>\n",
       "      <th>피부타입</th>\n",
       "      <th>피부고민</th>\n",
       "      <th>자극도</th>\n",
       "      <th>리뷰</th>\n",
       "    </tr>\n",
       "  </thead>\n",
       "  <tbody>\n",
       "    <tr>\n",
       "      <th>0</th>\n",
       "      <td>아비브</td>\n",
       "      <td>1</td>\n",
       "      <td>지성에 좋아요</td>\n",
       "      <td>주름/미백에 좋아요</td>\n",
       "      <td>자극이 느껴져요</td>\n",
       "      <td>와 이게 수분크림이 맞나요 바르고 피부 뒤집어져도 나한테만 안맞겠거니 리뷰 안쓰는데...</td>\n",
       "    </tr>\n",
       "    <tr>\n",
       "      <th>1</th>\n",
       "      <td>아비브</td>\n",
       "      <td>1</td>\n",
       "      <td>건성에 좋아요</td>\n",
       "      <td>주름/미백에 좋아요</td>\n",
       "      <td>자극이 느껴져요</td>\n",
       "      <td>트러블 나요  여러번 테스트 해봤는데도 건성 수부지 복합성 이예요 지성인 남자친구도...</td>\n",
       "    </tr>\n",
       "    <tr>\n",
       "      <th>2</th>\n",
       "      <td>아비브</td>\n",
       "      <td>1</td>\n",
       "      <td>지성에 좋아요</td>\n",
       "      <td>진정에 좋아요</td>\n",
       "      <td>자극없이 순해요</td>\n",
       "      <td>수분크림인데 바르고 시간이 조금만 지나도 수분감이 거의 안느껴지고 제형도 별로에요 ...</td>\n",
       "    </tr>\n",
       "    <tr>\n",
       "      <th>3</th>\n",
       "      <td>아비브</td>\n",
       "      <td>2</td>\n",
       "      <td>지성에 좋아요</td>\n",
       "      <td>주름/미백에 좋아요</td>\n",
       "      <td>자극이 느껴져요</td>\n",
       "      <td>지성용 보습제 같습니다 제가 민감건성이긴 한데 수분크림중에 이렇게 안 촉촉한 제품은...</td>\n",
       "    </tr>\n",
       "    <tr>\n",
       "      <th>4</th>\n",
       "      <td>아비브</td>\n",
       "      <td>2</td>\n",
       "      <td>복합성에 좋아요</td>\n",
       "      <td>진정에 좋아요</td>\n",
       "      <td>자극이 느껴져요</td>\n",
       "      <td>생각보다 별로였어요 바르면 얼굴이 붉어지는게 저한테는 안맞는 성분이 있나봅니다  가...</td>\n",
       "    </tr>\n",
       "  </tbody>\n",
       "</table>\n",
       "</div>"
      ],
      "text/plain": [
       "   브랜드  평점      피부타입        피부고민       자극도  \\\n",
       "0  아비브   1   지성에 좋아요  주름/미백에 좋아요  자극이 느껴져요   \n",
       "1  아비브   1   건성에 좋아요  주름/미백에 좋아요  자극이 느껴져요   \n",
       "2  아비브   1   지성에 좋아요     진정에 좋아요  자극없이 순해요   \n",
       "3  아비브   2   지성에 좋아요  주름/미백에 좋아요  자극이 느껴져요   \n",
       "4  아비브   2  복합성에 좋아요     진정에 좋아요  자극이 느껴져요   \n",
       "\n",
       "                                                  리뷰  \n",
       "0  와 이게 수분크림이 맞나요 바르고 피부 뒤집어져도 나한테만 안맞겠거니 리뷰 안쓰는데...  \n",
       "1  트러블 나요  여러번 테스트 해봤는데도 건성 수부지 복합성 이예요 지성인 남자친구도...  \n",
       "2  수분크림인데 바르고 시간이 조금만 지나도 수분감이 거의 안느껴지고 제형도 별로에요 ...  \n",
       "3  지성용 보습제 같습니다 제가 민감건성이긴 한데 수분크림중에 이렇게 안 촉촉한 제품은...  \n",
       "4  생각보다 별로였어요 바르면 얼굴이 붉어지는게 저한테는 안맞는 성분이 있나봅니다  가...  "
      ]
     },
     "execution_count": 19,
     "metadata": {},
     "output_type": "execute_result"
    }
   ],
   "source": [
    "review_de.head()"
   ]
  },
  {
   "cell_type": "raw",
   "id": "f9648e49-8c08-447a-b576-64e82bb88535",
   "metadata": {},
   "source": [
    "review_pos.rename(columns={'Column1': 'review'}, inplace=True)\n",
    "review_pos.drop(index=0, inplace=True)\n",
    "\n",
    "review_pos['sentiment'] = 1\n",
    "\n",
    "output_file_path = '긍정_불용어제거_sentiment.csv'\n",
    "review_pos.to_csv(output_file_path, index=False)\n",
    "\n",
    "output_file_path"
   ]
  },
  {
   "cell_type": "raw",
   "id": "65939ec8-0c52-4716-ba62-baae23e11773",
   "metadata": {},
   "source": [
    "review_de.rename(columns={'Column1': 'review'}, inplace=True)\n",
    "review_de.drop(index=0, inplace=True)\n",
    "\n",
    "review_de['sentiment'] = 0\n",
    "\n",
    "output_file_path = '부정_불용어제거_sentiment.csv'\n",
    "review_de.to_csv(output_file_path, index=False)\n",
    "\n",
    "output_file_path"
   ]
  },
  {
   "cell_type": "code",
   "execution_count": 23,
   "id": "b6fcaade-8c6d-4467-8cb1-86340f107afd",
   "metadata": {},
   "outputs": [
    {
     "data": {
      "text/plain": [
       "'sentiment_data_all.csv'"
      ]
     },
     "execution_count": 23,
     "metadata": {},
     "output_type": "execute_result"
    }
   ],
   "source": [
    "# 파일 병합\n",
    "positive_reviews_path = 'sentiment_data_all(긍정).csv'\n",
    "negative_reviews_path = 'sentiment_data_all(부정).csv'\n",
    "\n",
    "positive_reviews = pd.read_csv(positive_reviews_path, encoding='utf-8')\n",
    "negative_reviews = pd.read_csv(negative_reviews_path, encoding='utf-8')\n",
    "\n",
    "positive_reviews['sentiment'] = 1\n",
    "negative_reviews['sentiment'] = 0\n",
    "\n",
    "combined_reviews = pd.concat([positive_reviews, negative_reviews])\n",
    "\n",
    "\n",
    "combined_reviews_path = 'sentiment_data_all.csv'\n",
    "combined_reviews.to_csv(combined_reviews_path, index=False)\n",
    "\n",
    "combined_reviews_path"
   ]
  },
  {
   "cell_type": "code",
   "execution_count": null,
   "id": "2084bab9-0107-467b-a81d-9b65d049b291",
   "metadata": {},
   "outputs": [],
   "source": []
  }
 ],
 "metadata": {
  "kernelspec": {
   "display_name": "Python (tensorflow)",
   "language": "python",
   "name": "tensorflow"
  },
  "language_info": {
   "codemirror_mode": {
    "name": "ipython",
    "version": 3
   },
   "file_extension": ".py",
   "mimetype": "text/x-python",
   "name": "python",
   "nbconvert_exporter": "python",
   "pygments_lexer": "ipython3",
   "version": "3.9.18"
  }
 },
 "nbformat": 4,
 "nbformat_minor": 5
}
