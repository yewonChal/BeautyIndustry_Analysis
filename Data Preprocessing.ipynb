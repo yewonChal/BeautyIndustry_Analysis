{
 "cells": [
  {
   "cell_type": "code",
   "execution_count": 45,
   "id": "e8ac8feb-b912-4549-a3e3-614fdc612181",
   "metadata": {
    "id": "e8ac8feb-b912-4549-a3e3-614fdc612181"
   },
   "outputs": [],
   "source": [
    "import matplotlib.pyplot as plt\n",
    "import pandas as pd\n",
    "from matplotlib import rc\n",
    "import numpy as np\n",
    "import warnings\n",
    "warnings.filterwarnings('ignore')\n",
    "import seaborn as sns\n",
    "import re\n",
    "from wordcloud import WordCloud, STOPWORDS\n",
    "\n",
    "rc('font', family='AppleGothic')\n",
    "rc('axes', unicode_minus=False)"
   ]
  },
  {
   "cell_type": "code",
   "execution_count": 46,
   "id": "85ed847d-8de5-4aca-bbeb-0a5ecba413dc",
   "metadata": {
    "id": "85ed847d-8de5-4aca-bbeb-0a5ecba413dc",
    "outputId": "06c37d0f-f858-41d5-de6d-056ffe100f3e"
   },
   "outputs": [
    {
     "name": "stdout",
     "output_type": "stream",
     "text": [
      "['brand', 'date', 'rate', 'id', 'skin_type', 'select_1_title', 'select_1_content', 'select_2_title', 'select_2_content', 'select_3_title', 'select_3_content', 'txt']\n"
     ]
    }
   ],
   "source": [
    "import csv\n",
    "f = open('data_all_0805.csv', 'r', encoding='utf-8')\n",
    "lines = csv.reader(f)\n",
    "header = next(lines)\n",
    "print(header)\n",
    "f.close()"
   ]
  },
  {
   "cell_type": "code",
   "execution_count": 47,
   "id": "ac9a3951-c586-483d-8fa0-e83c0fd7b0c6",
   "metadata": {
    "id": "ac9a3951-c586-483d-8fa0-e83c0fd7b0c6",
    "scrolled": true
   },
   "outputs": [
    {
     "data": {
      "text/html": [
       "<div>\n",
       "<style scoped>\n",
       "    .dataframe tbody tr th:only-of-type {\n",
       "        vertical-align: middle;\n",
       "    }\n",
       "\n",
       "    .dataframe tbody tr th {\n",
       "        vertical-align: top;\n",
       "    }\n",
       "\n",
       "    .dataframe thead th {\n",
       "        text-align: right;\n",
       "    }\n",
       "</style>\n",
       "<table border=\"1\" class=\"dataframe\">\n",
       "  <thead>\n",
       "    <tr style=\"text-align: right;\">\n",
       "      <th></th>\n",
       "      <th>brand</th>\n",
       "      <th>date</th>\n",
       "      <th>rate</th>\n",
       "      <th>id</th>\n",
       "      <th>skin_type</th>\n",
       "      <th>select_1_title</th>\n",
       "      <th>select_1_content</th>\n",
       "      <th>select_2_title</th>\n",
       "      <th>select_2_content</th>\n",
       "      <th>select_3_title</th>\n",
       "      <th>select_3_content</th>\n",
       "      <th>txt</th>\n",
       "    </tr>\n",
       "  </thead>\n",
       "  <tbody>\n",
       "    <tr>\n",
       "      <th>0</th>\n",
       "      <td>닥터지</td>\n",
       "      <td>2024-06-27</td>\n",
       "      <td>5점만점에 4점</td>\n",
       "      <td>수밍배</td>\n",
       "      <td>복합성에 좋아요</td>\n",
       "      <td>피부타입</td>\n",
       "      <td>복합성에 좋아요</td>\n",
       "      <td>피부고민</td>\n",
       "      <td>진정에 좋아요</td>\n",
       "      <td>자극도</td>\n",
       "      <td>보통이에요</td>\n",
       "      <td>컵 받고싶어서 샀어요\\n크림은 튜브형태러 내줄 생각은 없는건지 궁금해요</td>\n",
       "    </tr>\n",
       "    <tr>\n",
       "      <th>1</th>\n",
       "      <td>닥터지</td>\n",
       "      <td>2024-07-21</td>\n",
       "      <td>5점만점에 5점</td>\n",
       "      <td>무미니</td>\n",
       "      <td>건성에 좋아요</td>\n",
       "      <td>피부타입</td>\n",
       "      <td>건성에 좋아요</td>\n",
       "      <td>피부고민</td>\n",
       "      <td>진정에 좋아요</td>\n",
       "      <td>자극도</td>\n",
       "      <td>자극없이 순해요</td>\n",
       "      <td>닥터지는 사계절 내내 잘 사용하고잇어요 ㅎㅎㅎ\\n\\n물론 건성피부에게 겨울에는 얼굴...</td>\n",
       "    </tr>\n",
       "    <tr>\n",
       "      <th>2</th>\n",
       "      <td>닥터지</td>\n",
       "      <td>2024-06-28</td>\n",
       "      <td>5점만점에 5점</td>\n",
       "      <td>후르치키타</td>\n",
       "      <td>복합성에 좋아요</td>\n",
       "      <td>피부타입</td>\n",
       "      <td>복합성에 좋아요</td>\n",
       "      <td>피부고민</td>\n",
       "      <td>진정에 좋아요</td>\n",
       "      <td>자극도</td>\n",
       "      <td>보통이에요</td>\n",
       "      <td>아빠 사드렸는데 좋아해요 근데 바르는게 쫌 별로긴 한데 투브타입으로 나오면 더 좋을 듯</td>\n",
       "    </tr>\n",
       "    <tr>\n",
       "      <th>3</th>\n",
       "      <td>닥터지</td>\n",
       "      <td>2024-07-06</td>\n",
       "      <td>5점만점에 5점</td>\n",
       "      <td>손명진</td>\n",
       "      <td>건성에 좋아요</td>\n",
       "      <td>피부타입</td>\n",
       "      <td>건성에 좋아요</td>\n",
       "      <td>피부고민</td>\n",
       "      <td>보습에 좋아요</td>\n",
       "      <td>자극도</td>\n",
       "      <td>자극없이 순해요</td>\n",
       "      <td>국민 수분 크림이라 그런지 모든 피부타입에도 잘 맞으면서 무난한 아이템이에요 당황이...</td>\n",
       "    </tr>\n",
       "    <tr>\n",
       "      <th>4</th>\n",
       "      <td>닥터지</td>\n",
       "      <td>2024-07-25</td>\n",
       "      <td>5점만점에 4점</td>\n",
       "      <td>뚜뚜몸뽈링리링링</td>\n",
       "      <td>복합성에 좋아요</td>\n",
       "      <td>피부타입</td>\n",
       "      <td>복합성에 좋아요</td>\n",
       "      <td>피부고민</td>\n",
       "      <td>보습에 좋아요</td>\n",
       "      <td>자극도</td>\n",
       "      <td>자극없이 순해요</td>\n",
       "      <td>- 여름용 수분크림이 필요해서 산 제품이에요.\\n- 가격은 세일가로 28,800원 ...</td>\n",
       "    </tr>\n",
       "  </tbody>\n",
       "</table>\n",
       "</div>"
      ],
      "text/plain": [
       "  brand        date      rate        id skin_type select_1_title  \\\n",
       "0   닥터지  2024-06-27  5점만점에 4점       수밍배  복합성에 좋아요           피부타입   \n",
       "1   닥터지  2024-07-21  5점만점에 5점       무미니   건성에 좋아요           피부타입   \n",
       "2   닥터지  2024-06-28  5점만점에 5점     후르치키타  복합성에 좋아요           피부타입   \n",
       "3   닥터지  2024-07-06  5점만점에 5점       손명진   건성에 좋아요           피부타입   \n",
       "4   닥터지  2024-07-25  5점만점에 4점  뚜뚜몸뽈링리링링  복합성에 좋아요           피부타입   \n",
       "\n",
       "  select_1_content select_2_title select_2_content select_3_title  \\\n",
       "0         복합성에 좋아요           피부고민          진정에 좋아요            자극도   \n",
       "1          건성에 좋아요           피부고민          진정에 좋아요            자극도   \n",
       "2         복합성에 좋아요           피부고민          진정에 좋아요            자극도   \n",
       "3          건성에 좋아요           피부고민          보습에 좋아요            자극도   \n",
       "4         복합성에 좋아요           피부고민          보습에 좋아요            자극도   \n",
       "\n",
       "  select_3_content                                                txt  \n",
       "0            보통이에요            컵 받고싶어서 샀어요\\n크림은 튜브형태러 내줄 생각은 없는건지 궁금해요  \n",
       "1         자극없이 순해요  닥터지는 사계절 내내 잘 사용하고잇어요 ㅎㅎㅎ\\n\\n물론 건성피부에게 겨울에는 얼굴...  \n",
       "2            보통이에요   아빠 사드렸는데 좋아해요 근데 바르는게 쫌 별로긴 한데 투브타입으로 나오면 더 좋을 듯  \n",
       "3         자극없이 순해요  국민 수분 크림이라 그런지 모든 피부타입에도 잘 맞으면서 무난한 아이템이에요 당황이...  \n",
       "4         자극없이 순해요  - 여름용 수분크림이 필요해서 산 제품이에요.\\n- 가격은 세일가로 28,800원 ...  "
      ]
     },
     "execution_count": 47,
     "metadata": {},
     "output_type": "execute_result"
    }
   ],
   "source": [
    "# 데이터 불러오기\n",
    "review = pd.read_csv('data_all_0805.csv', encoding='utf-8')\n",
    "review.head()"
   ]
  },
  {
   "cell_type": "code",
   "execution_count": 48,
   "id": "c1d9d478-d622-41dd-b75a-3d857d84faf1",
   "metadata": {
    "id": "c1d9d478-d622-41dd-b75a-3d857d84faf1",
    "scrolled": true
   },
   "outputs": [],
   "source": [
    "# 컬럼 제거\n",
    "review = review.drop(columns=['date', 'id', 'skin_type','select_1_title','select_2_title','select_3_title'])"
   ]
  },
  {
   "cell_type": "code",
   "execution_count": 49,
   "id": "0d80a312-fada-432b-977c-41df44a06b56",
   "metadata": {
    "id": "0d80a312-fada-432b-977c-41df44a06b56",
    "outputId": "f985b506-9c76-4259-aaed-e709a918f079"
   },
   "outputs": [
    {
     "data": {
      "text/plain": [
       "Index(['브랜드', '평점', '피부타입', '피부고민', '자극도', '리뷰'], dtype='object')"
      ]
     },
     "execution_count": 49,
     "metadata": {},
     "output_type": "execute_result"
    }
   ],
   "source": [
    "# 컬럼 리네임\n",
    "review.rename({'brand':'브랜드', 'rate': '평점', 'select_1_content':'피부타입',\n",
    "               'select_2_content':'피부고민','select_3_content':'자극도', 'txt':'리뷰' }, axis=1, inplace=True)\n",
    "review.columns"
   ]
  },
  {
   "cell_type": "code",
   "execution_count": 50,
   "id": "83a3a4ff-9b5e-4d9f-8f46-793d17b703a6",
   "metadata": {
    "id": "83a3a4ff-9b5e-4d9f-8f46-793d17b703a6",
    "outputId": "e329b891-78f7-41a1-a8e7-eaf491fb4097"
   },
   "outputs": [
    {
     "data": {
      "text/html": [
       "<div>\n",
       "<style scoped>\n",
       "    .dataframe tbody tr th:only-of-type {\n",
       "        vertical-align: middle;\n",
       "    }\n",
       "\n",
       "    .dataframe tbody tr th {\n",
       "        vertical-align: top;\n",
       "    }\n",
       "\n",
       "    .dataframe thead th {\n",
       "        text-align: right;\n",
       "    }\n",
       "</style>\n",
       "<table border=\"1\" class=\"dataframe\">\n",
       "  <thead>\n",
       "    <tr style=\"text-align: right;\">\n",
       "      <th></th>\n",
       "      <th>브랜드</th>\n",
       "      <th>평점</th>\n",
       "      <th>피부타입</th>\n",
       "      <th>피부고민</th>\n",
       "      <th>자극도</th>\n",
       "      <th>리뷰</th>\n",
       "    </tr>\n",
       "  </thead>\n",
       "  <tbody>\n",
       "    <tr>\n",
       "      <th>0</th>\n",
       "      <td>닥터지</td>\n",
       "      <td>5점만점에 4점</td>\n",
       "      <td>복합성에 좋아요</td>\n",
       "      <td>진정에 좋아요</td>\n",
       "      <td>보통이에요</td>\n",
       "      <td>컵 받고싶어서 샀어요\\n크림은 튜브형태러 내줄 생각은 없는건지 궁금해요</td>\n",
       "    </tr>\n",
       "    <tr>\n",
       "      <th>1</th>\n",
       "      <td>닥터지</td>\n",
       "      <td>5점만점에 5점</td>\n",
       "      <td>건성에 좋아요</td>\n",
       "      <td>진정에 좋아요</td>\n",
       "      <td>자극없이 순해요</td>\n",
       "      <td>닥터지는 사계절 내내 잘 사용하고잇어요 ㅎㅎㅎ\\n\\n물론 건성피부에게 겨울에는 얼굴...</td>\n",
       "    </tr>\n",
       "    <tr>\n",
       "      <th>2</th>\n",
       "      <td>닥터지</td>\n",
       "      <td>5점만점에 5점</td>\n",
       "      <td>복합성에 좋아요</td>\n",
       "      <td>진정에 좋아요</td>\n",
       "      <td>보통이에요</td>\n",
       "      <td>아빠 사드렸는데 좋아해요 근데 바르는게 쫌 별로긴 한데 투브타입으로 나오면 더 좋을 듯</td>\n",
       "    </tr>\n",
       "    <tr>\n",
       "      <th>3</th>\n",
       "      <td>닥터지</td>\n",
       "      <td>5점만점에 5점</td>\n",
       "      <td>건성에 좋아요</td>\n",
       "      <td>보습에 좋아요</td>\n",
       "      <td>자극없이 순해요</td>\n",
       "      <td>국민 수분 크림이라 그런지 모든 피부타입에도 잘 맞으면서 무난한 아이템이에요 당황이...</td>\n",
       "    </tr>\n",
       "    <tr>\n",
       "      <th>4</th>\n",
       "      <td>닥터지</td>\n",
       "      <td>5점만점에 4점</td>\n",
       "      <td>복합성에 좋아요</td>\n",
       "      <td>보습에 좋아요</td>\n",
       "      <td>자극없이 순해요</td>\n",
       "      <td>- 여름용 수분크림이 필요해서 산 제품이에요.\\n- 가격은 세일가로 28,800원 ...</td>\n",
       "    </tr>\n",
       "  </tbody>\n",
       "</table>\n",
       "</div>"
      ],
      "text/plain": [
       "   브랜드        평점      피부타입     피부고민       자극도  \\\n",
       "0  닥터지  5점만점에 4점  복합성에 좋아요  진정에 좋아요     보통이에요   \n",
       "1  닥터지  5점만점에 5점   건성에 좋아요  진정에 좋아요  자극없이 순해요   \n",
       "2  닥터지  5점만점에 5점  복합성에 좋아요  진정에 좋아요     보통이에요   \n",
       "3  닥터지  5점만점에 5점   건성에 좋아요  보습에 좋아요  자극없이 순해요   \n",
       "4  닥터지  5점만점에 4점  복합성에 좋아요  보습에 좋아요  자극없이 순해요   \n",
       "\n",
       "                                                  리뷰  \n",
       "0            컵 받고싶어서 샀어요\\n크림은 튜브형태러 내줄 생각은 없는건지 궁금해요  \n",
       "1  닥터지는 사계절 내내 잘 사용하고잇어요 ㅎㅎㅎ\\n\\n물론 건성피부에게 겨울에는 얼굴...  \n",
       "2   아빠 사드렸는데 좋아해요 근데 바르는게 쫌 별로긴 한데 투브타입으로 나오면 더 좋을 듯  \n",
       "3  국민 수분 크림이라 그런지 모든 피부타입에도 잘 맞으면서 무난한 아이템이에요 당황이...  \n",
       "4  - 여름용 수분크림이 필요해서 산 제품이에요.\\n- 가격은 세일가로 28,800원 ...  "
      ]
     },
     "execution_count": 50,
     "metadata": {},
     "output_type": "execute_result"
    }
   ],
   "source": [
    "review.head()"
   ]
  },
  {
   "cell_type": "markdown",
   "id": "107bc339-1b0f-44d6-9634-bbb524dd84f8",
   "metadata": {
    "id": "107bc339-1b0f-44d6-9634-bbb524dd84f8"
   },
   "source": [
    "전처리 작업"
   ]
  },
  {
   "cell_type": "code",
   "execution_count": 51,
   "id": "6b53312f-45dc-4018-ad59-37da3c926480",
   "metadata": {
    "id": "6b53312f-45dc-4018-ad59-37da3c926480"
   },
   "outputs": [],
   "source": [
    "# '\\n' 제거\n",
    "def remove_newline(text):\n",
    "    return re.sub(r'\\n', ' ', text)\n",
    "\n",
    "review['리뷰'] = review['리뷰'].apply(remove_newline)"
   ]
  },
  {
   "cell_type": "code",
   "execution_count": 52,
   "id": "e767724a-c2b7-4717-8499-9d86e1b87d9a",
   "metadata": {
    "id": "e767724a-c2b7-4717-8499-9d86e1b87d9a"
   },
   "outputs": [],
   "source": [
    "import re\n",
    "\n",
    "# 평점 중 점수 추출\n",
    "def score_conversion(text):\n",
    "    score_match = re.search(r'(\\d+)점$', text) # 숫자 다음 '점'이 있는 패턴 찾기, ex) 5점만점에 4점\n",
    "    if score_match:\n",
    "        return score_match.group(1) # 추출된 숫자 반환(score_match에서 괄호로 묶인 첫 번째 그룹(숫자) 반환)\n",
    "    else:\n",
    "        return None\n",
    "\n",
    "review['평점'] = review['평점'].apply(score_conversion)"
   ]
  },
  {
   "cell_type": "code",
   "execution_count": 53,
   "id": "fd44d387-f631-4f13-9569-8d16c4d3f7c8",
   "metadata": {
    "id": "fd44d387-f631-4f13-9569-8d16c4d3f7c8"
   },
   "outputs": [],
   "source": [
    "# 구두점 제거\n",
    "from string import punctuation\n",
    "\n",
    "def repreprocessing(text):\n",
    "    return ''.join(word for word in text if word not in punctuation or word == '+')\n",
    "\n",
    "review['리뷰'] = review['리뷰'].apply(repreprocessing)"
   ]
  },
  {
   "cell_type": "code",
   "execution_count": 54,
   "id": "f2106444-cfc6-4e3f-924e-ed7f06b63528",
   "metadata": {
    "id": "f2106444-cfc6-4e3f-924e-ed7f06b63528"
   },
   "outputs": [],
   "source": [
    "# 하트 및 '+'를 제외한 구두점 제거\n",
    "def cleanText(text):\n",
    "    text = re.sub('[-=,#/\\?:;^$.@*\\\"※~&%ㆍ!』\\\\‘|\\(\\)\\[\\]\\<\\>`\\'…》🥲🤫~:)♡^___^#*_><♥️❌♡bb'':Dㆍ♥️x♥️□♤●♥️♡♥️😅😦🥺❗😤🫥☑️🤫✅😭😢💙🤍1️⃣2️⃣3️⃣4️⃣➖🥰😰🤫🥸❌🥲⭐💝😿🍒❤️✔️👍😄⛔🥰♥️💌🤩🥰😍😄🫶🫢😆☺️🌱♥️🤭💓✨💦😇🙏🏻💖😁❣️🌿❤️‍🔥👍🏻💛💛💔🍯👉🎂*⸌☻ັ⸍*🤙🏻🍒😎🫰🏻💭💙🤕•👏🏻🌟😌🤩💗💥❤️🙋🏻‍♀️👩🏻💸🌸👍🎀🥺🐰❤️‍🔥🥺🧚✨😂]'\n",
    "    , '', text)\n",
    "    return text\n",
    "\n",
    "review['리뷰'] = review['리뷰'].apply(cleanText)"
   ]
  },
  {
   "cell_type": "code",
   "execution_count": 55,
   "id": "a6ad5eac-9803-4888-8ee2-310849db8873",
   "metadata": {
    "id": "a6ad5eac-9803-4888-8ee2-310849db8873"
   },
   "outputs": [],
   "source": [
    "# 자음 반복 제거\n",
    "def cleanText2(text):\n",
    "\n",
    "    text = re.sub('[ㄱㄴㄷㄹㅁㅂㅅㅇㅈㅊㅋㅌㅍㅎㅃㅉㄸㄲㅆㅛㅕㅑㅐㅔㅗㅓㅏㅣㅜㅠㅡ]', '', text)\n",
    "    return text\n",
    "\n",
    "\n",
    "review['리뷰'] = review['리뷰'].apply(cleanText2)"
   ]
  },
  {
   "cell_type": "code",
   "execution_count": 56,
   "id": "d4ad6ce5-f36a-4fe4-9b5d-6d9425b235a8",
   "metadata": {
    "id": "d4ad6ce5-f36a-4fe4-9b5d-6d9425b235a8",
    "outputId": "12743839-aeec-42ed-d4b0-8659f355266e"
   },
   "outputs": [
    {
     "data": {
      "text/plain": [
       "818"
      ]
     },
     "execution_count": 56,
     "metadata": {},
     "output_type": "execute_result"
    }
   ],
   "source": [
    "# 중복값 확인\n",
    "review['리뷰'].duplicated().sum()"
   ]
  },
  {
   "cell_type": "code",
   "execution_count": 57,
   "id": "668c9ad3-3eae-4aad-b673-598ea3be8ffa",
   "metadata": {
    "id": "668c9ad3-3eae-4aad-b673-598ea3be8ffa"
   },
   "outputs": [],
   "source": [
    "# 중복 리뷰 제거\n",
    "review = review.drop_duplicates(subset='리뷰')"
   ]
  },
  {
   "cell_type": "code",
   "execution_count": 58,
   "id": "9706d806-d652-4dfe-a09f-70970c2f2e90",
   "metadata": {
    "id": "9706d806-d652-4dfe-a09f-70970c2f2e90",
    "outputId": "a5eb8167-d316-4c69-f021-bdcdcc7e62f1"
   },
   "outputs": [
    {
     "data": {
      "text/plain": [
       "0"
      ]
     },
     "execution_count": 58,
     "metadata": {},
     "output_type": "execute_result"
    }
   ],
   "source": [
    "# 중복값 제거 후 확인\n",
    "review['리뷰'].duplicated().sum()"
   ]
  },
  {
   "cell_type": "code",
   "execution_count": 59,
   "id": "e61b7738-a583-42a5-aba5-f1489ca61e7c",
   "metadata": {
    "id": "e61b7738-a583-42a5-aba5-f1489ca61e7c",
    "outputId": "5a9dfc46-778f-4deb-e7f8-2d08897511c2"
   },
   "outputs": [
    {
     "data": {
      "text/plain": [
       "(6139, 6)"
      ]
     },
     "execution_count": 59,
     "metadata": {},
     "output_type": "execute_result"
    }
   ],
   "source": [
    "# 데이터 개수 확인\n",
    "review.shape"
   ]
  },
  {
   "cell_type": "code",
   "execution_count": 60,
   "id": "ac8a4065-e49f-47eb-8f36-df0e8518e626",
   "metadata": {
    "id": "ac8a4065-e49f-47eb-8f36-df0e8518e626",
    "outputId": "24726986-200b-4c24-b4bf-72e4d0b7a345"
   },
   "outputs": [
    {
     "data": {
      "text/plain": [
       "브랜드     0\n",
       "평점      0\n",
       "피부타입    0\n",
       "피부고민    0\n",
       "자극도     0\n",
       "리뷰      0\n",
       "dtype: int64"
      ]
     },
     "execution_count": 60,
     "metadata": {},
     "output_type": "execute_result"
    }
   ],
   "source": [
    "# null 확인\n",
    "review.isnull().sum()"
   ]
  },
  {
   "cell_type": "code",
   "execution_count": 61,
   "id": "fRpJkzkMi4gt",
   "metadata": {
    "id": "fRpJkzkMi4gt"
   },
   "outputs": [
    {
     "data": {
      "text/plain": [
       "평점\n",
       "5    4798\n",
       "1     448\n",
       "2     401\n",
       "4     391\n",
       "3     101\n",
       "Name: count, dtype: int64"
      ]
     },
     "execution_count": 61,
     "metadata": {},
     "output_type": "execute_result"
    }
   ],
   "source": [
    "# 전체 평점 중 3점 개수 확인\n",
    "review['평점'].value_counts()"
   ]
  },
  {
   "cell_type": "code",
   "execution_count": 62,
   "id": "FKQLf2jIi5Ql",
   "metadata": {
    "id": "FKQLf2jIi5Ql"
   },
   "outputs": [
    {
     "data": {
      "text/plain": [
       "평점\n",
       "5    78.156051\n",
       "1     7.297605\n",
       "2     6.532008\n",
       "4     6.369115\n",
       "3     1.645219\n",
       "Name: count, dtype: float64"
      ]
     },
     "execution_count": 62,
     "metadata": {},
     "output_type": "execute_result"
    }
   ],
   "source": [
    "# 전체 평점 중 3점 퍼센트 확인\n",
    "review['평점'].value_counts() / len(review) * 100"
   ]
  },
  {
   "cell_type": "code",
   "execution_count": 63,
   "id": "M-NdTZWti-Tw",
   "metadata": {
    "id": "M-NdTZWti-Tw"
   },
   "outputs": [
    {
     "data": {
      "text/plain": [
       "Series([], Name: 리뷰, dtype: object)"
      ]
     },
     "execution_count": 63,
     "metadata": {},
     "output_type": "execute_result"
    }
   ],
   "source": [
    "# 3점 리뷰 내용이 애매.... 모델 설계를 위해 빼기로 결정!\n",
    "review_score3 = review.loc[review['평점'] == 3, '리뷰']\n",
    "review_score3.head()"
   ]
  },
  {
   "cell_type": "code",
   "execution_count": 64,
   "id": "7f483db7-c8c6-4ecd-8b75-ffdb662d9efb",
   "metadata": {
    "id": "7f483db7-c8c6-4ecd-8b75-ffdb662d9efb",
    "outputId": "c98ed254-86c6-4757-dfc9-76fa6814e9ae"
   },
   "outputs": [
    {
     "data": {
      "text/html": [
       "<div>\n",
       "<style scoped>\n",
       "    .dataframe tbody tr th:only-of-type {\n",
       "        vertical-align: middle;\n",
       "    }\n",
       "\n",
       "    .dataframe tbody tr th {\n",
       "        vertical-align: top;\n",
       "    }\n",
       "\n",
       "    .dataframe thead th {\n",
       "        text-align: right;\n",
       "    }\n",
       "</style>\n",
       "<table border=\"1\" class=\"dataframe\">\n",
       "  <thead>\n",
       "    <tr style=\"text-align: right;\">\n",
       "      <th></th>\n",
       "      <th>브랜드</th>\n",
       "      <th>평점</th>\n",
       "      <th>피부타입</th>\n",
       "      <th>피부고민</th>\n",
       "      <th>자극도</th>\n",
       "      <th>리뷰</th>\n",
       "    </tr>\n",
       "  </thead>\n",
       "  <tbody>\n",
       "    <tr>\n",
       "      <th>6952</th>\n",
       "      <td>에스트라</td>\n",
       "      <td>1</td>\n",
       "      <td>건성에 좋아요</td>\n",
       "      <td>보습에 좋아요</td>\n",
       "      <td>자극없이 순해요</td>\n",
       "      <td>재구매했어요 건성한테 진심 추천 가격올리면 가만안둬</td>\n",
       "    </tr>\n",
       "    <tr>\n",
       "      <th>6953</th>\n",
       "      <td>에스트라</td>\n",
       "      <td>2</td>\n",
       "      <td>건성에 좋아요</td>\n",
       "      <td>보습에 좋아요</td>\n",
       "      <td>보통이에요</td>\n",
       "      <td>복합성인데 겨울에 건조한 피부입니다 모공막은 성분때문에 뭐가 나는것같습니다 건성이신...</td>\n",
       "    </tr>\n",
       "    <tr>\n",
       "      <th>6954</th>\n",
       "      <td>에스트라</td>\n",
       "      <td>2</td>\n",
       "      <td>복합성에 좋아요</td>\n",
       "      <td>보습에 좋아요</td>\n",
       "      <td>보통이에요</td>\n",
       "      <td>기름기가 없어서 좋네요 보습은 시간지나면 좀 당깁니다</td>\n",
       "    </tr>\n",
       "    <tr>\n",
       "      <th>6955</th>\n",
       "      <td>에스트라</td>\n",
       "      <td>2</td>\n",
       "      <td>건성에 좋아요</td>\n",
       "      <td>보습에 좋아요</td>\n",
       "      <td>자극이 느껴져요</td>\n",
       "      <td>5통넘게쓱있는데 정말무난하게쓰여용 자극없이 순해요</td>\n",
       "    </tr>\n",
       "    <tr>\n",
       "      <th>6956</th>\n",
       "      <td>에스트라</td>\n",
       "      <td>2</td>\n",
       "      <td>건성에 좋아요</td>\n",
       "      <td>보습에 좋아요</td>\n",
       "      <td>보통이에요</td>\n",
       "      <td>모공막힘 성분 덕에 왕여드름 터져요 몸에바르니 좋은데 몸에바르기엔 비싸요</td>\n",
       "    </tr>\n",
       "  </tbody>\n",
       "</table>\n",
       "</div>"
      ],
      "text/plain": [
       "       브랜드 평점      피부타입     피부고민       자극도  \\\n",
       "6952  에스트라  1   건성에 좋아요  보습에 좋아요  자극없이 순해요   \n",
       "6953  에스트라  2   건성에 좋아요  보습에 좋아요     보통이에요   \n",
       "6954  에스트라  2  복합성에 좋아요  보습에 좋아요     보통이에요   \n",
       "6955  에스트라  2   건성에 좋아요  보습에 좋아요  자극이 느껴져요   \n",
       "6956  에스트라  2   건성에 좋아요  보습에 좋아요     보통이에요   \n",
       "\n",
       "                                                     리뷰  \n",
       "6952                       재구매했어요 건성한테 진심 추천 가격올리면 가만안둬  \n",
       "6953  복합성인데 겨울에 건조한 피부입니다 모공막은 성분때문에 뭐가 나는것같습니다 건성이신...  \n",
       "6954                      기름기가 없어서 좋네요 보습은 시간지나면 좀 당깁니다  \n",
       "6955                        5통넘게쓱있는데 정말무난하게쓰여용 자극없이 순해요  \n",
       "6956           모공막힘 성분 덕에 왕여드름 터져요 몸에바르니 좋은데 몸에바르기엔 비싸요  "
      ]
     },
     "execution_count": 64,
     "metadata": {},
     "output_type": "execute_result"
    }
   ],
   "source": [
    "# 전처리 완료 후 모습\n",
    "review.tail()"
   ]
  },
  {
   "cell_type": "raw",
   "id": "78e00709-6ddf-4ec6-8861-179b299cd0db",
   "metadata": {
    "id": "78e00709-6ddf-4ec6-8861-179b299cd0db"
   },
   "source": [
    "review.to_csv('data_all(부정).csv')"
   ]
  },
  {
   "cell_type": "markdown",
   "id": "66701c47-b2f2-4680-917c-6aa1511c42d5",
   "metadata": {
    "id": "66701c47-b2f2-4680-917c-6aa1511c42d5"
   },
   "source": [
    "# 긍정 부정 리뷰 데이터 나누기"
   ]
  },
  {
   "cell_type": "code",
   "execution_count": 65,
   "id": "78e70b10-963f-4717-9604-5d9f2a40ca2a",
   "metadata": {
    "id": "78e70b10-963f-4717-9604-5d9f2a40ca2a",
    "outputId": "c64462b8-7484-4b00-c663-f0f855ff70f2"
   },
   "outputs": [
    {
     "data": {
      "text/html": [
       "<div>\n",
       "<style scoped>\n",
       "    .dataframe tbody tr th:only-of-type {\n",
       "        vertical-align: middle;\n",
       "    }\n",
       "\n",
       "    .dataframe tbody tr th {\n",
       "        vertical-align: top;\n",
       "    }\n",
       "\n",
       "    .dataframe thead th {\n",
       "        text-align: right;\n",
       "    }\n",
       "</style>\n",
       "<table border=\"1\" class=\"dataframe\">\n",
       "  <thead>\n",
       "    <tr style=\"text-align: right;\">\n",
       "      <th></th>\n",
       "      <th>브랜드</th>\n",
       "      <th>평점</th>\n",
       "      <th>피부타입</th>\n",
       "      <th>피부고민</th>\n",
       "      <th>자극도</th>\n",
       "      <th>리뷰</th>\n",
       "    </tr>\n",
       "  </thead>\n",
       "  <tbody>\n",
       "    <tr>\n",
       "      <th>0</th>\n",
       "      <td>닥터지</td>\n",
       "      <td>4</td>\n",
       "      <td>복합성에 좋아요</td>\n",
       "      <td>진정에 좋아요</td>\n",
       "      <td>보통이에요</td>\n",
       "      <td>컵 받고싶어서 샀어요 크림은 튜브형태러 내줄 생각은 없는건지 궁금해요</td>\n",
       "    </tr>\n",
       "    <tr>\n",
       "      <th>1</th>\n",
       "      <td>닥터지</td>\n",
       "      <td>5</td>\n",
       "      <td>건성에 좋아요</td>\n",
       "      <td>진정에 좋아요</td>\n",
       "      <td>자극없이 순해요</td>\n",
       "      <td>닥터지는 사계절 내내 잘 사용하고잇어요   물론 건성피부에게 겨울에는 얼굴당김잇어서...</td>\n",
       "    </tr>\n",
       "    <tr>\n",
       "      <th>2</th>\n",
       "      <td>닥터지</td>\n",
       "      <td>5</td>\n",
       "      <td>복합성에 좋아요</td>\n",
       "      <td>진정에 좋아요</td>\n",
       "      <td>보통이에요</td>\n",
       "      <td>아빠 사드렸는데 좋아해요 근데 바르는게 쫌 별로긴 한데 투브타입으로 나오면 더 좋을 듯</td>\n",
       "    </tr>\n",
       "    <tr>\n",
       "      <th>3</th>\n",
       "      <td>닥터지</td>\n",
       "      <td>5</td>\n",
       "      <td>건성에 좋아요</td>\n",
       "      <td>보습에 좋아요</td>\n",
       "      <td>자극없이 순해요</td>\n",
       "      <td>국민 수분 크림이라 그런지 모든 피부타입에도 잘 맞으면서 무난한 아이템이에요 당황이...</td>\n",
       "    </tr>\n",
       "    <tr>\n",
       "      <th>4</th>\n",
       "      <td>닥터지</td>\n",
       "      <td>4</td>\n",
       "      <td>복합성에 좋아요</td>\n",
       "      <td>보습에 좋아요</td>\n",
       "      <td>자극없이 순해요</td>\n",
       "      <td>여름용 수분크림이 필요해서 산 제품이에요  가격은 세일가로 8800원 했어요사실 ...</td>\n",
       "    </tr>\n",
       "  </tbody>\n",
       "</table>\n",
       "</div>"
      ],
      "text/plain": [
       "   브랜드  평점      피부타입     피부고민       자극도  \\\n",
       "0  닥터지   4  복합성에 좋아요  진정에 좋아요     보통이에요   \n",
       "1  닥터지   5   건성에 좋아요  진정에 좋아요  자극없이 순해요   \n",
       "2  닥터지   5  복합성에 좋아요  진정에 좋아요     보통이에요   \n",
       "3  닥터지   5   건성에 좋아요  보습에 좋아요  자극없이 순해요   \n",
       "4  닥터지   4  복합성에 좋아요  보습에 좋아요  자극없이 순해요   \n",
       "\n",
       "                                                  리뷰  \n",
       "0             컵 받고싶어서 샀어요 크림은 튜브형태러 내줄 생각은 없는건지 궁금해요  \n",
       "1  닥터지는 사계절 내내 잘 사용하고잇어요   물론 건성피부에게 겨울에는 얼굴당김잇어서...  \n",
       "2   아빠 사드렸는데 좋아해요 근데 바르는게 쫌 별로긴 한데 투브타입으로 나오면 더 좋을 듯  \n",
       "3  국민 수분 크림이라 그런지 모든 피부타입에도 잘 맞으면서 무난한 아이템이에요 당황이...  \n",
       "4   여름용 수분크림이 필요해서 산 제품이에요  가격은 세일가로 8800원 했어요사실 ...  "
      ]
     },
     "execution_count": 65,
     "metadata": {},
     "output_type": "execute_result"
    }
   ],
   "source": [
    "# 긍정 리뷰 데이터\n",
    "review['평점'] = review['평점'].astype(int)\n",
    "review_pos = review[review['평점'] >= 4]\n",
    "review_pos.head()"
   ]
  },
  {
   "cell_type": "code",
   "execution_count": 66,
   "id": "cda31d47-e12a-4863-be42-bd0e84b908c4",
   "metadata": {
    "id": "cda31d47-e12a-4863-be42-bd0e84b908c4"
   },
   "outputs": [],
   "source": [
    "review_pos.to_csv('data_all(긍정).csv', index=False)"
   ]
  },
  {
   "cell_type": "code",
   "execution_count": 67,
   "id": "28f77693-e3f6-43aa-81a0-325bcfa99ddd",
   "metadata": {
    "id": "28f77693-e3f6-43aa-81a0-325bcfa99ddd",
    "outputId": "7c1822df-9324-495b-89ad-b82593bcd1d9"
   },
   "outputs": [
    {
     "data": {
      "text/html": [
       "<div>\n",
       "<style scoped>\n",
       "    .dataframe tbody tr th:only-of-type {\n",
       "        vertical-align: middle;\n",
       "    }\n",
       "\n",
       "    .dataframe tbody tr th {\n",
       "        vertical-align: top;\n",
       "    }\n",
       "\n",
       "    .dataframe thead th {\n",
       "        text-align: right;\n",
       "    }\n",
       "</style>\n",
       "<table border=\"1\" class=\"dataframe\">\n",
       "  <thead>\n",
       "    <tr style=\"text-align: right;\">\n",
       "      <th></th>\n",
       "      <th>브랜드</th>\n",
       "      <th>평점</th>\n",
       "      <th>피부타입</th>\n",
       "      <th>피부고민</th>\n",
       "      <th>자극도</th>\n",
       "      <th>리뷰</th>\n",
       "    </tr>\n",
       "  </thead>\n",
       "  <tbody>\n",
       "    <tr>\n",
       "      <th>2003</th>\n",
       "      <td>아비브</td>\n",
       "      <td>1</td>\n",
       "      <td>지성에 좋아요</td>\n",
       "      <td>주름/미백에 좋아요</td>\n",
       "      <td>자극이 느껴져요</td>\n",
       "      <td>와 이게 수분크림이 맞나요 바르고 피부 뒤집어져도 나한테만 안맞겠거니 리뷰 안쓰는데...</td>\n",
       "    </tr>\n",
       "    <tr>\n",
       "      <th>2028</th>\n",
       "      <td>아비브</td>\n",
       "      <td>1</td>\n",
       "      <td>건성에 좋아요</td>\n",
       "      <td>주름/미백에 좋아요</td>\n",
       "      <td>자극이 느껴져요</td>\n",
       "      <td>트러블 나요  여러번 테스트 해봤는데도 건성 수부지 복합성 이예요 지성인 남자친구도...</td>\n",
       "    </tr>\n",
       "    <tr>\n",
       "      <th>2128</th>\n",
       "      <td>아비브</td>\n",
       "      <td>1</td>\n",
       "      <td>지성에 좋아요</td>\n",
       "      <td>진정에 좋아요</td>\n",
       "      <td>자극없이 순해요</td>\n",
       "      <td>수분크림인데 바르고 시간이 조금만 지나도 수분감이 거의 안느껴지고 제형도 별로에요 ...</td>\n",
       "    </tr>\n",
       "    <tr>\n",
       "      <th>2161</th>\n",
       "      <td>아비브</td>\n",
       "      <td>2</td>\n",
       "      <td>지성에 좋아요</td>\n",
       "      <td>주름/미백에 좋아요</td>\n",
       "      <td>자극이 느껴져요</td>\n",
       "      <td>지성용 보습제 같습니다 제가 민감건성이긴 한데 수분크림중에 이렇게 안 촉촉한 제품은...</td>\n",
       "    </tr>\n",
       "    <tr>\n",
       "      <th>2166</th>\n",
       "      <td>아비브</td>\n",
       "      <td>2</td>\n",
       "      <td>복합성에 좋아요</td>\n",
       "      <td>진정에 좋아요</td>\n",
       "      <td>자극이 느껴져요</td>\n",
       "      <td>생각보다 별로였어요 바르면 얼굴이 붉어지는게 저한테는 안맞는 성분이 있나봅니다  가...</td>\n",
       "    </tr>\n",
       "  </tbody>\n",
       "</table>\n",
       "</div>"
      ],
      "text/plain": [
       "      브랜드  평점      피부타입        피부고민       자극도  \\\n",
       "2003  아비브   1   지성에 좋아요  주름/미백에 좋아요  자극이 느껴져요   \n",
       "2028  아비브   1   건성에 좋아요  주름/미백에 좋아요  자극이 느껴져요   \n",
       "2128  아비브   1   지성에 좋아요     진정에 좋아요  자극없이 순해요   \n",
       "2161  아비브   2   지성에 좋아요  주름/미백에 좋아요  자극이 느껴져요   \n",
       "2166  아비브   2  복합성에 좋아요     진정에 좋아요  자극이 느껴져요   \n",
       "\n",
       "                                                     리뷰  \n",
       "2003  와 이게 수분크림이 맞나요 바르고 피부 뒤집어져도 나한테만 안맞겠거니 리뷰 안쓰는데...  \n",
       "2028  트러블 나요  여러번 테스트 해봤는데도 건성 수부지 복합성 이예요 지성인 남자친구도...  \n",
       "2128  수분크림인데 바르고 시간이 조금만 지나도 수분감이 거의 안느껴지고 제형도 별로에요 ...  \n",
       "2161  지성용 보습제 같습니다 제가 민감건성이긴 한데 수분크림중에 이렇게 안 촉촉한 제품은...  \n",
       "2166  생각보다 별로였어요 바르면 얼굴이 붉어지는게 저한테는 안맞는 성분이 있나봅니다  가...  "
      ]
     },
     "execution_count": 67,
     "metadata": {},
     "output_type": "execute_result"
    }
   ],
   "source": [
    "# 부정 리뷰 데이터\n",
    "review['평점'] = review['평점'].astype(int)\n",
    "review_nag = review[review['평점'] <= 2]\n",
    "review_nag.head()"
   ]
  },
  {
   "cell_type": "code",
   "execution_count": 68,
   "id": "0e4a8e44-fffc-4fd2-a205-f6b1ee2baa4f",
   "metadata": {
    "id": "0e4a8e44-fffc-4fd2-a205-f6b1ee2baa4f"
   },
   "outputs": [],
   "source": [
    "review_nag.to_csv('data_all(부정).csv', index=False)"
   ]
  },
  {
   "cell_type": "code",
   "execution_count": 70,
   "id": "17c655b3-a818-4418-8e15-d35b9f78c674",
   "metadata": {},
   "outputs": [],
   "source": [
    "import pandas as pd\n",
    "\n",
    "review = pd.read_csv('data_all_0805_cleaned.csv', encoding='utf-8')\n",
    "\n",
    "review = review[review['평점'] != 3]\n",
    "\n",
    "def assign_sentiment(row):\n",
    "    if row['평점'] in [4, 5]:\n",
    "        return 1\n",
    "    elif row['평점'] in [1, 2]:\n",
    "        return 0\n",
    "\n",
    "review['sentiment'] = review.apply(assign_sentiment, axis=1)\n",
    "\n",
    "review.to_csv('data_all_0805_sentiment.csv', index=False, encoding='utf-8')"
   ]
  },
  {
   "cell_type": "code",
   "execution_count": 71,
   "id": "bd7a40f2-3673-4c4f-8201-0eabfb332700",
   "metadata": {},
   "outputs": [
    {
     "data": {
      "text/html": [
       "<div>\n",
       "<style scoped>\n",
       "    .dataframe tbody tr th:only-of-type {\n",
       "        vertical-align: middle;\n",
       "    }\n",
       "\n",
       "    .dataframe tbody tr th {\n",
       "        vertical-align: top;\n",
       "    }\n",
       "\n",
       "    .dataframe thead th {\n",
       "        text-align: right;\n",
       "    }\n",
       "</style>\n",
       "<table border=\"1\" class=\"dataframe\">\n",
       "  <thead>\n",
       "    <tr style=\"text-align: right;\">\n",
       "      <th></th>\n",
       "      <th>브랜드</th>\n",
       "      <th>평점</th>\n",
       "      <th>피부타입</th>\n",
       "      <th>피부 고민</th>\n",
       "      <th>자극도</th>\n",
       "      <th>리뷰</th>\n",
       "      <th>sentiment</th>\n",
       "    </tr>\n",
       "  </thead>\n",
       "  <tbody>\n",
       "  </tbody>\n",
       "</table>\n",
       "</div>"
      ],
      "text/plain": [
       "Empty DataFrame\n",
       "Columns: [브랜드, 평점, 피부타입, 피부 고민, 자극도, 리뷰, sentiment]\n",
       "Index: []"
      ]
     },
     "execution_count": 71,
     "metadata": {},
     "output_type": "execute_result"
    }
   ],
   "source": [
    "review_score_3 = review[review['평점'] == 3]\n",
    "review_score_3"
   ]
  },
  {
   "cell_type": "code",
   "execution_count": null,
   "id": "cc1cce5f-f692-418f-88bf-3b04c1421af9",
   "metadata": {},
   "outputs": [],
   "source": []
  }
 ],
 "metadata": {
  "colab": {
   "provenance": []
  },
  "kernelspec": {
   "display_name": "Python (tensorflow)",
   "language": "python",
   "name": "tensorflow"
  },
  "language_info": {
   "codemirror_mode": {
    "name": "ipython",
    "version": 3
   },
   "file_extension": ".py",
   "mimetype": "text/x-python",
   "name": "python",
   "nbconvert_exporter": "python",
   "pygments_lexer": "ipython3",
   "version": "3.9.18"
  }
 },
 "nbformat": 4,
 "nbformat_minor": 5
}
